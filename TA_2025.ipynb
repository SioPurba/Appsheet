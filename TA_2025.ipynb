{
  "cells": [
    {
      "cell_type": "code",
      "execution_count": null,
      "metadata": {
        "id": "slOK-Trx6sj5"
      },
      "outputs": [],
      "source": [
        "# === Install library yang dibutuhkan (hanya sekali di Colab) ===\n",
        "!pip install --quiet gspread gspread-dataframe oauth2client pandas requests\n"
      ]
    },
    {
      "cell_type": "code",
      "execution_count": null,
      "metadata": {
        "id": "gLM6KSMe8niN"
      },
      "outputs": [],
      "source": [
        "import pandas as pd\n",
        "import requests\n",
        "import gspread\n",
        "import re\n",
        "from oauth2client.service_account import ServiceAccountCredentials\n",
        "\n",
        "# Konstanta\n",
        "SPREADSHEET_URL = \"https://docs.google.com/spreadsheets/d/12taGrqZYfb9F91eIo9q2oVKsnpxAIqFbVFOya1LSxyg/edit\"\n",
        "OLLAMA_URL = \" https://salad-female-some-populations.trycloudflare.com\"\n",
        "OLLAMA_MODEL = \"llama3\"\n",
        "\n",
        "# Setup koneksi Google Sheets\n",
        "scope = [\n",
        "    \"https://spreadsheets.google.com/feeds\",\n",
        "    \"https://www.googleapis.com/auth/spreadsheets\",\n",
        "    \"https://www.googleapis.com/auth/drive\"\n",
        "]\n",
        "\n",
        "creds = ServiceAccountCredentials.from_json_keyfile_name(\"/content/credentials.json\", scope)\n",
        "client = gspread.authorize(creds)\n",
        "\n",
        "# Buka spreadsheet dan worksheets\n",
        "sheet = client.open_by_url(SPREADSHEET_URL)\n",
        "wawancara_ws = sheet.worksheet(\"Hasil Wawancara\")\n",
        "rubrik_ws = sheet.worksheet(\"Penilaian Rubrik\")\n"
      ]
    },
    {
      "cell_type": "code",
      "execution_count": null,
      "metadata": {
        "id": "PTAH-hgN8nt7"
      },
      "outputs": [],
      "source": [
        "# Ambil seluruh isi sheet wawancara\n",
        "df_wawancara = pd.DataFrame(wawancara_ws.get_all_values())\n",
        "df_wawancara.columns = df_wawancara.iloc[0]\n",
        "df_wawancara = df_wawancara[1:]\n",
        "\n",
        "# Ambil kolom F–W (index 5 s.d. 22)\n",
        "df_deskripsi = df_wawancara.iloc[:, 5:23]\n",
        "\n",
        "# Gabungkan menjadi satu string per UMKM\n",
        "def gabung_deskripsi(row):\n",
        "    return ' '.join([str(x) for x in row if str(x).strip()])\n",
        "\n",
        "# Ambil deskripsi UMKM pertama (jika hanya 1 yang dianalisis)\n",
        "deskripsi_umkm = gabung_deskripsi(df_deskripsi.iloc[0])\n"
      ]
    },
    {
      "cell_type": "code",
      "execution_count": null,
      "metadata": {
        "id": "qeviWbsM8nya"
      },
      "outputs": [],
      "source": [
        "import re\n",
        "import requests\n",
        "\n",
        "def analyze_skor(kriteria, rubrik, deskripsi):\n",
        "    prompt = f\"\"\"\n",
        "Deskripsi UMKM:\n",
        "\\\"{deskripsi}\\\"\n",
        "\n",
        "Kriteria Penilaian:\n",
        "\\\"{kriteria}\\\"\n",
        "\n",
        "Rubrik Penilaian:\n",
        "\\\"{rubrik}\\\"\n",
        "\n",
        "Tentukan skor digitalisasi untuk kriteria tersebut:\n",
        "- 0: Belum ada digitalisasi\n",
        "- 1: Digitalisasi awal dan terbatas\n",
        "- 2: Terintegrasi sebagian\n",
        "- 3: Transformasi menyeluruh\n",
        "\n",
        "Kembalikan hanya 1 angka: 0, 1, 2, atau 3. Jangan berikan penjelasan tambahan.\n",
        "\"\"\"\n",
        "    try:\n",
        "        res = requests.post(\n",
        "            f\"{OLLAMA_URL}/api/generate\",\n",
        "            json={\"model\": OLLAMA_MODEL, \"prompt\": prompt, \"stream\": False},\n",
        "            timeout=60\n",
        "        )\n",
        "        output = res.text.strip()\n",
        "        match = re.search(r'\\b[0-3]\\b', output)\n",
        "        if match:\n",
        "            return match.group(0)\n",
        "        else:\n",
        "            print(f\"⚠️ Jawaban tidak valid untuk kriteria '{kriteria}': {output} → default = 0\")\n",
        "            return \"0\"\n",
        "    except requests.exceptions.ReadTimeout:\n",
        "        print(f\"❌ Timeout saat analisis kriteria '{kriteria}' → default = 0\")\n",
        "        return \"0\"\n",
        "    except Exception as e:\n",
        "        print(f\"❌ Error saat analisis kriteria '{kriteria}': {e} → default = 0\")\n",
        "        return \"0\"\n"
      ]
    },
    {
      "cell_type": "code",
      "execution_count": null,
      "metadata": {
        "colab": {
          "base_uri": "https://localhost:8080/",
          "height": 373
        },
        "id": "jCTxwgcM8n13",
        "outputId": "eff50bcf-bab7-40fc-f306-b51f4534f20e"
      },
      "outputs": [
        {
          "name": "stdout",
          "output_type": "stream",
          "text": [
            "❌ Timeout saat analisis kriteria 'Penggunaan teknologi digital' → default = 0\n"
          ]
        },
        {
          "ename": "KeyboardInterrupt",
          "evalue": "",
          "output_type": "error",
          "traceback": [
            "\u001b[0;31m---------------------------------------------------------------------------\u001b[0m",
            "\u001b[0;31mKeyboardInterrupt\u001b[0m                         Traceback (most recent call last)",
            "\u001b[0;32m/tmp/ipython-input-41-2906973633.py\u001b[0m in \u001b[0;36m<cell line: 0>\u001b[0;34m()\u001b[0m\n\u001b[1;32m      7\u001b[0m     \u001b[0mkriteria\u001b[0m \u001b[0;34m=\u001b[0m \u001b[0mrow\u001b[0m\u001b[0;34m[\u001b[0m\u001b[0;36m0\u001b[0m\u001b[0;34m]\u001b[0m\u001b[0;34m\u001b[0m\u001b[0;34m\u001b[0m\u001b[0m\n\u001b[1;32m      8\u001b[0m     \u001b[0mrubrik\u001b[0m \u001b[0;34m=\u001b[0m \u001b[0mrow\u001b[0m\u001b[0;34m[\u001b[0m\u001b[0;36m1\u001b[0m\u001b[0;34m]\u001b[0m\u001b[0;34m\u001b[0m\u001b[0;34m\u001b[0m\u001b[0m\n\u001b[0;32m----> 9\u001b[0;31m     \u001b[0mskor\u001b[0m \u001b[0;34m=\u001b[0m \u001b[0manalyze_skor\u001b[0m\u001b[0;34m(\u001b[0m\u001b[0mkriteria\u001b[0m\u001b[0;34m,\u001b[0m \u001b[0mrubrik\u001b[0m\u001b[0;34m,\u001b[0m \u001b[0mdeskripsi_umkm\u001b[0m\u001b[0;34m)\u001b[0m\u001b[0;34m\u001b[0m\u001b[0;34m\u001b[0m\u001b[0m\n\u001b[0m\u001b[1;32m     10\u001b[0m     \u001b[0mrubrik_ws\u001b[0m\u001b[0;34m.\u001b[0m\u001b[0mupdate_acell\u001b[0m\u001b[0;34m(\u001b[0m\u001b[0;34mf\"C{i+2}\"\u001b[0m\u001b[0;34m,\u001b[0m \u001b[0mskor\u001b[0m\u001b[0;34m)\u001b[0m\u001b[0;34m\u001b[0m\u001b[0;34m\u001b[0m\u001b[0m\n\u001b[1;32m     11\u001b[0m \u001b[0;34m\u001b[0m\u001b[0m\n",
            "\u001b[0;32m/tmp/ipython-input-40-1931024582.py\u001b[0m in \u001b[0;36manalyze_skor\u001b[0;34m(kriteria, rubrik, deskripsi)\u001b[0m\n\u001b[1;32m     22\u001b[0m \"\"\"\n\u001b[1;32m     23\u001b[0m     \u001b[0;32mtry\u001b[0m\u001b[0;34m:\u001b[0m\u001b[0;34m\u001b[0m\u001b[0;34m\u001b[0m\u001b[0m\n\u001b[0;32m---> 24\u001b[0;31m         res = requests.post(\n\u001b[0m\u001b[1;32m     25\u001b[0m             \u001b[0;34mf\"{OLLAMA_URL}/api/generate\"\u001b[0m\u001b[0;34m,\u001b[0m\u001b[0;34m\u001b[0m\u001b[0;34m\u001b[0m\u001b[0m\n\u001b[1;32m     26\u001b[0m             \u001b[0mjson\u001b[0m\u001b[0;34m=\u001b[0m\u001b[0;34m{\u001b[0m\u001b[0;34m\"model\"\u001b[0m\u001b[0;34m:\u001b[0m \u001b[0mOLLAMA_MODEL\u001b[0m\u001b[0;34m,\u001b[0m \u001b[0;34m\"prompt\"\u001b[0m\u001b[0;34m:\u001b[0m \u001b[0mprompt\u001b[0m\u001b[0;34m,\u001b[0m \u001b[0;34m\"stream\"\u001b[0m\u001b[0;34m:\u001b[0m \u001b[0;32mFalse\u001b[0m\u001b[0;34m}\u001b[0m\u001b[0;34m,\u001b[0m\u001b[0;34m\u001b[0m\u001b[0;34m\u001b[0m\u001b[0m\n",
            "\u001b[0;32m/usr/local/lib/python3.11/dist-packages/requests/api.py\u001b[0m in \u001b[0;36mpost\u001b[0;34m(url, data, json, **kwargs)\u001b[0m\n\u001b[1;32m    113\u001b[0m     \"\"\"\n\u001b[1;32m    114\u001b[0m \u001b[0;34m\u001b[0m\u001b[0m\n\u001b[0;32m--> 115\u001b[0;31m     \u001b[0;32mreturn\u001b[0m \u001b[0mrequest\u001b[0m\u001b[0;34m(\u001b[0m\u001b[0;34m\"post\"\u001b[0m\u001b[0;34m,\u001b[0m \u001b[0murl\u001b[0m\u001b[0;34m,\u001b[0m \u001b[0mdata\u001b[0m\u001b[0;34m=\u001b[0m\u001b[0mdata\u001b[0m\u001b[0;34m,\u001b[0m \u001b[0mjson\u001b[0m\u001b[0;34m=\u001b[0m\u001b[0mjson\u001b[0m\u001b[0;34m,\u001b[0m \u001b[0;34m**\u001b[0m\u001b[0mkwargs\u001b[0m\u001b[0;34m)\u001b[0m\u001b[0;34m\u001b[0m\u001b[0;34m\u001b[0m\u001b[0m\n\u001b[0m\u001b[1;32m    116\u001b[0m \u001b[0;34m\u001b[0m\u001b[0m\n\u001b[1;32m    117\u001b[0m \u001b[0;34m\u001b[0m\u001b[0m\n",
            "\u001b[0;32m/usr/local/lib/python3.11/dist-packages/requests/api.py\u001b[0m in \u001b[0;36mrequest\u001b[0;34m(method, url, **kwargs)\u001b[0m\n\u001b[1;32m     57\u001b[0m     \u001b[0;31m# cases, and look like a memory leak in others.\u001b[0m\u001b[0;34m\u001b[0m\u001b[0;34m\u001b[0m\u001b[0m\n\u001b[1;32m     58\u001b[0m     \u001b[0;32mwith\u001b[0m \u001b[0msessions\u001b[0m\u001b[0;34m.\u001b[0m\u001b[0mSession\u001b[0m\u001b[0;34m(\u001b[0m\u001b[0;34m)\u001b[0m \u001b[0;32mas\u001b[0m \u001b[0msession\u001b[0m\u001b[0;34m:\u001b[0m\u001b[0;34m\u001b[0m\u001b[0;34m\u001b[0m\u001b[0m\n\u001b[0;32m---> 59\u001b[0;31m         \u001b[0;32mreturn\u001b[0m \u001b[0msession\u001b[0m\u001b[0;34m.\u001b[0m\u001b[0mrequest\u001b[0m\u001b[0;34m(\u001b[0m\u001b[0mmethod\u001b[0m\u001b[0;34m=\u001b[0m\u001b[0mmethod\u001b[0m\u001b[0;34m,\u001b[0m \u001b[0murl\u001b[0m\u001b[0;34m=\u001b[0m\u001b[0murl\u001b[0m\u001b[0;34m,\u001b[0m \u001b[0;34m**\u001b[0m\u001b[0mkwargs\u001b[0m\u001b[0;34m)\u001b[0m\u001b[0;34m\u001b[0m\u001b[0;34m\u001b[0m\u001b[0m\n\u001b[0m\u001b[1;32m     60\u001b[0m \u001b[0;34m\u001b[0m\u001b[0m\n\u001b[1;32m     61\u001b[0m \u001b[0;34m\u001b[0m\u001b[0m\n",
            "\u001b[0;32m/usr/local/lib/python3.11/dist-packages/requests/sessions.py\u001b[0m in \u001b[0;36mrequest\u001b[0;34m(self, method, url, params, data, headers, cookies, files, auth, timeout, allow_redirects, proxies, hooks, stream, verify, cert, json)\u001b[0m\n\u001b[1;32m    587\u001b[0m         }\n\u001b[1;32m    588\u001b[0m         \u001b[0msend_kwargs\u001b[0m\u001b[0;34m.\u001b[0m\u001b[0mupdate\u001b[0m\u001b[0;34m(\u001b[0m\u001b[0msettings\u001b[0m\u001b[0;34m)\u001b[0m\u001b[0;34m\u001b[0m\u001b[0;34m\u001b[0m\u001b[0m\n\u001b[0;32m--> 589\u001b[0;31m         \u001b[0mresp\u001b[0m \u001b[0;34m=\u001b[0m \u001b[0mself\u001b[0m\u001b[0;34m.\u001b[0m\u001b[0msend\u001b[0m\u001b[0;34m(\u001b[0m\u001b[0mprep\u001b[0m\u001b[0;34m,\u001b[0m \u001b[0;34m**\u001b[0m\u001b[0msend_kwargs\u001b[0m\u001b[0;34m)\u001b[0m\u001b[0;34m\u001b[0m\u001b[0;34m\u001b[0m\u001b[0m\n\u001b[0m\u001b[1;32m    590\u001b[0m \u001b[0;34m\u001b[0m\u001b[0m\n\u001b[1;32m    591\u001b[0m         \u001b[0;32mreturn\u001b[0m \u001b[0mresp\u001b[0m\u001b[0;34m\u001b[0m\u001b[0;34m\u001b[0m\u001b[0m\n",
            "\u001b[0;32m/usr/local/lib/python3.11/dist-packages/requests/sessions.py\u001b[0m in \u001b[0;36msend\u001b[0;34m(self, request, **kwargs)\u001b[0m\n\u001b[1;32m    701\u001b[0m \u001b[0;34m\u001b[0m\u001b[0m\n\u001b[1;32m    702\u001b[0m         \u001b[0;31m# Send the request\u001b[0m\u001b[0;34m\u001b[0m\u001b[0;34m\u001b[0m\u001b[0m\n\u001b[0;32m--> 703\u001b[0;31m         \u001b[0mr\u001b[0m \u001b[0;34m=\u001b[0m \u001b[0madapter\u001b[0m\u001b[0;34m.\u001b[0m\u001b[0msend\u001b[0m\u001b[0;34m(\u001b[0m\u001b[0mrequest\u001b[0m\u001b[0;34m,\u001b[0m \u001b[0;34m**\u001b[0m\u001b[0mkwargs\u001b[0m\u001b[0;34m)\u001b[0m\u001b[0;34m\u001b[0m\u001b[0;34m\u001b[0m\u001b[0m\n\u001b[0m\u001b[1;32m    704\u001b[0m \u001b[0;34m\u001b[0m\u001b[0m\n\u001b[1;32m    705\u001b[0m         \u001b[0;31m# Total elapsed time of the request (approximately)\u001b[0m\u001b[0;34m\u001b[0m\u001b[0;34m\u001b[0m\u001b[0m\n",
            "\u001b[0;32m/usr/local/lib/python3.11/dist-packages/requests/adapters.py\u001b[0m in \u001b[0;36msend\u001b[0;34m(self, request, stream, timeout, verify, cert, proxies)\u001b[0m\n\u001b[1;32m    665\u001b[0m \u001b[0;34m\u001b[0m\u001b[0m\n\u001b[1;32m    666\u001b[0m         \u001b[0;32mtry\u001b[0m\u001b[0;34m:\u001b[0m\u001b[0;34m\u001b[0m\u001b[0;34m\u001b[0m\u001b[0m\n\u001b[0;32m--> 667\u001b[0;31m             resp = conn.urlopen(\n\u001b[0m\u001b[1;32m    668\u001b[0m                 \u001b[0mmethod\u001b[0m\u001b[0;34m=\u001b[0m\u001b[0mrequest\u001b[0m\u001b[0;34m.\u001b[0m\u001b[0mmethod\u001b[0m\u001b[0;34m,\u001b[0m\u001b[0;34m\u001b[0m\u001b[0;34m\u001b[0m\u001b[0m\n\u001b[1;32m    669\u001b[0m                 \u001b[0murl\u001b[0m\u001b[0;34m=\u001b[0m\u001b[0murl\u001b[0m\u001b[0;34m,\u001b[0m\u001b[0;34m\u001b[0m\u001b[0;34m\u001b[0m\u001b[0m\n",
            "\u001b[0;32m/usr/local/lib/python3.11/dist-packages/urllib3/connectionpool.py\u001b[0m in \u001b[0;36murlopen\u001b[0;34m(self, method, url, body, headers, retries, redirect, assert_same_host, timeout, pool_timeout, release_conn, chunked, body_pos, preload_content, decode_content, **response_kw)\u001b[0m\n\u001b[1;32m    785\u001b[0m \u001b[0;34m\u001b[0m\u001b[0m\n\u001b[1;32m    786\u001b[0m             \u001b[0;31m# Make the request on the HTTPConnection object\u001b[0m\u001b[0;34m\u001b[0m\u001b[0;34m\u001b[0m\u001b[0m\n\u001b[0;32m--> 787\u001b[0;31m             response = self._make_request(\n\u001b[0m\u001b[1;32m    788\u001b[0m                 \u001b[0mconn\u001b[0m\u001b[0;34m,\u001b[0m\u001b[0;34m\u001b[0m\u001b[0;34m\u001b[0m\u001b[0m\n\u001b[1;32m    789\u001b[0m                 \u001b[0mmethod\u001b[0m\u001b[0;34m,\u001b[0m\u001b[0;34m\u001b[0m\u001b[0;34m\u001b[0m\u001b[0m\n",
            "\u001b[0;32m/usr/local/lib/python3.11/dist-packages/urllib3/connectionpool.py\u001b[0m in \u001b[0;36m_make_request\u001b[0;34m(self, conn, method, url, body, headers, retries, timeout, chunked, response_conn, preload_content, decode_content, enforce_content_length)\u001b[0m\n\u001b[1;32m    532\u001b[0m         \u001b[0;31m# Receive the response from the server\u001b[0m\u001b[0;34m\u001b[0m\u001b[0;34m\u001b[0m\u001b[0m\n\u001b[1;32m    533\u001b[0m         \u001b[0;32mtry\u001b[0m\u001b[0;34m:\u001b[0m\u001b[0;34m\u001b[0m\u001b[0;34m\u001b[0m\u001b[0m\n\u001b[0;32m--> 534\u001b[0;31m             \u001b[0mresponse\u001b[0m \u001b[0;34m=\u001b[0m \u001b[0mconn\u001b[0m\u001b[0;34m.\u001b[0m\u001b[0mgetresponse\u001b[0m\u001b[0;34m(\u001b[0m\u001b[0;34m)\u001b[0m\u001b[0;34m\u001b[0m\u001b[0;34m\u001b[0m\u001b[0m\n\u001b[0m\u001b[1;32m    535\u001b[0m         \u001b[0;32mexcept\u001b[0m \u001b[0;34m(\u001b[0m\u001b[0mBaseSSLError\u001b[0m\u001b[0;34m,\u001b[0m \u001b[0mOSError\u001b[0m\u001b[0;34m)\u001b[0m \u001b[0;32mas\u001b[0m \u001b[0me\u001b[0m\u001b[0;34m:\u001b[0m\u001b[0;34m\u001b[0m\u001b[0;34m\u001b[0m\u001b[0m\n\u001b[1;32m    536\u001b[0m             \u001b[0mself\u001b[0m\u001b[0;34m.\u001b[0m\u001b[0m_raise_timeout\u001b[0m\u001b[0;34m(\u001b[0m\u001b[0merr\u001b[0m\u001b[0;34m=\u001b[0m\u001b[0me\u001b[0m\u001b[0;34m,\u001b[0m \u001b[0murl\u001b[0m\u001b[0;34m=\u001b[0m\u001b[0murl\u001b[0m\u001b[0;34m,\u001b[0m \u001b[0mtimeout_value\u001b[0m\u001b[0;34m=\u001b[0m\u001b[0mread_timeout\u001b[0m\u001b[0;34m)\u001b[0m\u001b[0;34m\u001b[0m\u001b[0;34m\u001b[0m\u001b[0m\n",
            "\u001b[0;32m/usr/local/lib/python3.11/dist-packages/urllib3/connection.py\u001b[0m in \u001b[0;36mgetresponse\u001b[0;34m(self)\u001b[0m\n\u001b[1;32m    514\u001b[0m \u001b[0;34m\u001b[0m\u001b[0m\n\u001b[1;32m    515\u001b[0m         \u001b[0;31m# Get the response from http.client.HTTPConnection\u001b[0m\u001b[0;34m\u001b[0m\u001b[0;34m\u001b[0m\u001b[0m\n\u001b[0;32m--> 516\u001b[0;31m         \u001b[0mhttplib_response\u001b[0m \u001b[0;34m=\u001b[0m \u001b[0msuper\u001b[0m\u001b[0;34m(\u001b[0m\u001b[0;34m)\u001b[0m\u001b[0;34m.\u001b[0m\u001b[0mgetresponse\u001b[0m\u001b[0;34m(\u001b[0m\u001b[0;34m)\u001b[0m\u001b[0;34m\u001b[0m\u001b[0;34m\u001b[0m\u001b[0m\n\u001b[0m\u001b[1;32m    517\u001b[0m \u001b[0;34m\u001b[0m\u001b[0m\n\u001b[1;32m    518\u001b[0m         \u001b[0;32mtry\u001b[0m\u001b[0;34m:\u001b[0m\u001b[0;34m\u001b[0m\u001b[0;34m\u001b[0m\u001b[0m\n",
            "\u001b[0;32m/usr/lib/python3.11/http/client.py\u001b[0m in \u001b[0;36mgetresponse\u001b[0;34m(self)\u001b[0m\n\u001b[1;32m   1393\u001b[0m         \u001b[0;32mtry\u001b[0m\u001b[0;34m:\u001b[0m\u001b[0;34m\u001b[0m\u001b[0;34m\u001b[0m\u001b[0m\n\u001b[1;32m   1394\u001b[0m             \u001b[0;32mtry\u001b[0m\u001b[0;34m:\u001b[0m\u001b[0;34m\u001b[0m\u001b[0;34m\u001b[0m\u001b[0m\n\u001b[0;32m-> 1395\u001b[0;31m                 \u001b[0mresponse\u001b[0m\u001b[0;34m.\u001b[0m\u001b[0mbegin\u001b[0m\u001b[0;34m(\u001b[0m\u001b[0;34m)\u001b[0m\u001b[0;34m\u001b[0m\u001b[0;34m\u001b[0m\u001b[0m\n\u001b[0m\u001b[1;32m   1396\u001b[0m             \u001b[0;32mexcept\u001b[0m \u001b[0mConnectionError\u001b[0m\u001b[0;34m:\u001b[0m\u001b[0;34m\u001b[0m\u001b[0;34m\u001b[0m\u001b[0m\n\u001b[1;32m   1397\u001b[0m                 \u001b[0mself\u001b[0m\u001b[0;34m.\u001b[0m\u001b[0mclose\u001b[0m\u001b[0;34m(\u001b[0m\u001b[0;34m)\u001b[0m\u001b[0;34m\u001b[0m\u001b[0;34m\u001b[0m\u001b[0m\n",
            "\u001b[0;32m/usr/lib/python3.11/http/client.py\u001b[0m in \u001b[0;36mbegin\u001b[0;34m(self)\u001b[0m\n\u001b[1;32m    323\u001b[0m         \u001b[0;31m# read until we get a non-100 response\u001b[0m\u001b[0;34m\u001b[0m\u001b[0;34m\u001b[0m\u001b[0m\n\u001b[1;32m    324\u001b[0m         \u001b[0;32mwhile\u001b[0m \u001b[0;32mTrue\u001b[0m\u001b[0;34m:\u001b[0m\u001b[0;34m\u001b[0m\u001b[0;34m\u001b[0m\u001b[0m\n\u001b[0;32m--> 325\u001b[0;31m             \u001b[0mversion\u001b[0m\u001b[0;34m,\u001b[0m \u001b[0mstatus\u001b[0m\u001b[0;34m,\u001b[0m \u001b[0mreason\u001b[0m \u001b[0;34m=\u001b[0m \u001b[0mself\u001b[0m\u001b[0;34m.\u001b[0m\u001b[0m_read_status\u001b[0m\u001b[0;34m(\u001b[0m\u001b[0;34m)\u001b[0m\u001b[0;34m\u001b[0m\u001b[0;34m\u001b[0m\u001b[0m\n\u001b[0m\u001b[1;32m    326\u001b[0m             \u001b[0;32mif\u001b[0m \u001b[0mstatus\u001b[0m \u001b[0;34m!=\u001b[0m \u001b[0mCONTINUE\u001b[0m\u001b[0;34m:\u001b[0m\u001b[0;34m\u001b[0m\u001b[0;34m\u001b[0m\u001b[0m\n\u001b[1;32m    327\u001b[0m                 \u001b[0;32mbreak\u001b[0m\u001b[0;34m\u001b[0m\u001b[0;34m\u001b[0m\u001b[0m\n",
            "\u001b[0;32m/usr/lib/python3.11/http/client.py\u001b[0m in \u001b[0;36m_read_status\u001b[0;34m(self)\u001b[0m\n\u001b[1;32m    284\u001b[0m \u001b[0;34m\u001b[0m\u001b[0m\n\u001b[1;32m    285\u001b[0m     \u001b[0;32mdef\u001b[0m \u001b[0m_read_status\u001b[0m\u001b[0;34m(\u001b[0m\u001b[0mself\u001b[0m\u001b[0;34m)\u001b[0m\u001b[0;34m:\u001b[0m\u001b[0;34m\u001b[0m\u001b[0;34m\u001b[0m\u001b[0m\n\u001b[0;32m--> 286\u001b[0;31m         \u001b[0mline\u001b[0m \u001b[0;34m=\u001b[0m \u001b[0mstr\u001b[0m\u001b[0;34m(\u001b[0m\u001b[0mself\u001b[0m\u001b[0;34m.\u001b[0m\u001b[0mfp\u001b[0m\u001b[0;34m.\u001b[0m\u001b[0mreadline\u001b[0m\u001b[0;34m(\u001b[0m\u001b[0m_MAXLINE\u001b[0m \u001b[0;34m+\u001b[0m \u001b[0;36m1\u001b[0m\u001b[0;34m)\u001b[0m\u001b[0;34m,\u001b[0m \u001b[0;34m\"iso-8859-1\"\u001b[0m\u001b[0;34m)\u001b[0m\u001b[0;34m\u001b[0m\u001b[0;34m\u001b[0m\u001b[0m\n\u001b[0m\u001b[1;32m    287\u001b[0m         \u001b[0;32mif\u001b[0m \u001b[0mlen\u001b[0m\u001b[0;34m(\u001b[0m\u001b[0mline\u001b[0m\u001b[0;34m)\u001b[0m \u001b[0;34m>\u001b[0m \u001b[0m_MAXLINE\u001b[0m\u001b[0;34m:\u001b[0m\u001b[0;34m\u001b[0m\u001b[0;34m\u001b[0m\u001b[0m\n\u001b[1;32m    288\u001b[0m             \u001b[0;32mraise\u001b[0m \u001b[0mLineTooLong\u001b[0m\u001b[0;34m(\u001b[0m\u001b[0;34m\"status line\"\u001b[0m\u001b[0;34m)\u001b[0m\u001b[0;34m\u001b[0m\u001b[0;34m\u001b[0m\u001b[0m\n",
            "\u001b[0;32m/usr/lib/python3.11/socket.py\u001b[0m in \u001b[0;36mreadinto\u001b[0;34m(self, b)\u001b[0m\n\u001b[1;32m    716\u001b[0m         \u001b[0;32mwhile\u001b[0m \u001b[0;32mTrue\u001b[0m\u001b[0;34m:\u001b[0m\u001b[0;34m\u001b[0m\u001b[0;34m\u001b[0m\u001b[0m\n\u001b[1;32m    717\u001b[0m             \u001b[0;32mtry\u001b[0m\u001b[0;34m:\u001b[0m\u001b[0;34m\u001b[0m\u001b[0;34m\u001b[0m\u001b[0m\n\u001b[0;32m--> 718\u001b[0;31m                 \u001b[0;32mreturn\u001b[0m \u001b[0mself\u001b[0m\u001b[0;34m.\u001b[0m\u001b[0m_sock\u001b[0m\u001b[0;34m.\u001b[0m\u001b[0mrecv_into\u001b[0m\u001b[0;34m(\u001b[0m\u001b[0mb\u001b[0m\u001b[0;34m)\u001b[0m\u001b[0;34m\u001b[0m\u001b[0;34m\u001b[0m\u001b[0m\n\u001b[0m\u001b[1;32m    719\u001b[0m             \u001b[0;32mexcept\u001b[0m \u001b[0mtimeout\u001b[0m\u001b[0;34m:\u001b[0m\u001b[0;34m\u001b[0m\u001b[0;34m\u001b[0m\u001b[0m\n\u001b[1;32m    720\u001b[0m                 \u001b[0mself\u001b[0m\u001b[0;34m.\u001b[0m\u001b[0m_timeout_occurred\u001b[0m \u001b[0;34m=\u001b[0m \u001b[0;32mTrue\u001b[0m\u001b[0;34m\u001b[0m\u001b[0;34m\u001b[0m\u001b[0m\n",
            "\u001b[0;32m/usr/lib/python3.11/ssl.py\u001b[0m in \u001b[0;36mrecv_into\u001b[0;34m(self, buffer, nbytes, flags)\u001b[0m\n\u001b[1;32m   1312\u001b[0m                   \u001b[0;34m\"non-zero flags not allowed in calls to recv_into() on %s\"\u001b[0m \u001b[0;34m%\u001b[0m\u001b[0;34m\u001b[0m\u001b[0;34m\u001b[0m\u001b[0m\n\u001b[1;32m   1313\u001b[0m                   self.__class__)\n\u001b[0;32m-> 1314\u001b[0;31m             \u001b[0;32mreturn\u001b[0m \u001b[0mself\u001b[0m\u001b[0;34m.\u001b[0m\u001b[0mread\u001b[0m\u001b[0;34m(\u001b[0m\u001b[0mnbytes\u001b[0m\u001b[0;34m,\u001b[0m \u001b[0mbuffer\u001b[0m\u001b[0;34m)\u001b[0m\u001b[0;34m\u001b[0m\u001b[0;34m\u001b[0m\u001b[0m\n\u001b[0m\u001b[1;32m   1315\u001b[0m         \u001b[0;32melse\u001b[0m\u001b[0;34m:\u001b[0m\u001b[0;34m\u001b[0m\u001b[0;34m\u001b[0m\u001b[0m\n\u001b[1;32m   1316\u001b[0m             \u001b[0;32mreturn\u001b[0m \u001b[0msuper\u001b[0m\u001b[0;34m(\u001b[0m\u001b[0;34m)\u001b[0m\u001b[0;34m.\u001b[0m\u001b[0mrecv_into\u001b[0m\u001b[0;34m(\u001b[0m\u001b[0mbuffer\u001b[0m\u001b[0;34m,\u001b[0m \u001b[0mnbytes\u001b[0m\u001b[0;34m,\u001b[0m \u001b[0mflags\u001b[0m\u001b[0;34m)\u001b[0m\u001b[0;34m\u001b[0m\u001b[0;34m\u001b[0m\u001b[0m\n",
            "\u001b[0;32m/usr/lib/python3.11/ssl.py\u001b[0m in \u001b[0;36mread\u001b[0;34m(self, len, buffer)\u001b[0m\n\u001b[1;32m   1164\u001b[0m         \u001b[0;32mtry\u001b[0m\u001b[0;34m:\u001b[0m\u001b[0;34m\u001b[0m\u001b[0;34m\u001b[0m\u001b[0m\n\u001b[1;32m   1165\u001b[0m             \u001b[0;32mif\u001b[0m \u001b[0mbuffer\u001b[0m \u001b[0;32mis\u001b[0m \u001b[0;32mnot\u001b[0m \u001b[0;32mNone\u001b[0m\u001b[0;34m:\u001b[0m\u001b[0;34m\u001b[0m\u001b[0;34m\u001b[0m\u001b[0m\n\u001b[0;32m-> 1166\u001b[0;31m                 \u001b[0;32mreturn\u001b[0m \u001b[0mself\u001b[0m\u001b[0;34m.\u001b[0m\u001b[0m_sslobj\u001b[0m\u001b[0;34m.\u001b[0m\u001b[0mread\u001b[0m\u001b[0;34m(\u001b[0m\u001b[0mlen\u001b[0m\u001b[0;34m,\u001b[0m \u001b[0mbuffer\u001b[0m\u001b[0;34m)\u001b[0m\u001b[0;34m\u001b[0m\u001b[0;34m\u001b[0m\u001b[0m\n\u001b[0m\u001b[1;32m   1167\u001b[0m             \u001b[0;32melse\u001b[0m\u001b[0;34m:\u001b[0m\u001b[0;34m\u001b[0m\u001b[0;34m\u001b[0m\u001b[0m\n\u001b[1;32m   1168\u001b[0m                 \u001b[0;32mreturn\u001b[0m \u001b[0mself\u001b[0m\u001b[0;34m.\u001b[0m\u001b[0m_sslobj\u001b[0m\u001b[0;34m.\u001b[0m\u001b[0mread\u001b[0m\u001b[0;34m(\u001b[0m\u001b[0mlen\u001b[0m\u001b[0;34m)\u001b[0m\u001b[0;34m\u001b[0m\u001b[0;34m\u001b[0m\u001b[0m\n",
            "\u001b[0;31mKeyboardInterrupt\u001b[0m: "
          ]
        }
      ],
      "source": [
        "# Ambil isi sheet rubrik\n",
        "rubrik_data = rubrik_ws.get_all_values()\n",
        "header, rows = rubrik_data[0], rubrik_data[1:]\n",
        "\n",
        "# Loop per baris rubrik\n",
        "for i, row in enumerate(rows):\n",
        "    kriteria = row[0]\n",
        "    rubrik = row[1]\n",
        "    skor = analyze_skor(kriteria, rubrik, deskripsi_umkm)\n",
        "    rubrik_ws.update_acell(f\"C{i+2}\", skor)\n",
        "\n",
        "print(\"✅ Semua skor berhasil ditulis ke kolom C Sheet 'Penilaian Rubrik'\")\n"
      ]
    },
    {
      "cell_type": "code",
      "execution_count": null,
      "metadata": {
        "id": "qOmjiBHE8n45"
      },
      "outputs": [],
      "source": []
    },
    {
      "cell_type": "code",
      "execution_count": null,
      "metadata": {
        "id": "gYI-yAL38n7u"
      },
      "outputs": [],
      "source": []
    },
    {
      "cell_type": "code",
      "execution_count": null,
      "metadata": {
        "colab": {
          "background_save": true,
          "base_uri": "https://localhost:8080/"
        },
        "id": "sRj_xQJq8n-7",
        "outputId": "e9224b5c-9f3a-43f5-8c42-e2b522a6d165"
      },
      "outputs": [
        {
          "name": "stdout",
          "output_type": "stream",
          "text": [
            "\n",
            "🔍 Memproses 'PT CIFA Indonesia' → Kolom C\n",
            "❌ Error saat analisis kriteria 'Strategi Digital dan Bisnis Inklusif': ('Connection broken: IncompleteRead(0 bytes read, 55 more expected)', IncompleteRead(0 bytes read, 55 more expected)) → default = 0\n",
            "❌ Error saat analisis kriteria 'Eksplorasi dan Eksploitasi Teknologi': ('Connection broken: IncompleteRead(0 bytes read, 55 more expected)', IncompleteRead(0 bytes read, 55 more expected)) → default = 0\n",
            "❌ Error saat analisis kriteria 'Kolaborasi bisnis dengan organisasi lain': ('Connection broken: IncompleteRead(0 bytes read, 55 more expected)', IncompleteRead(0 bytes read, 55 more expected)) → default = 0\n",
            "❌ Error saat analisis kriteria 'Inovasi produk atau jasa berbasis teknologi': ('Connection broken: IncompleteRead(0 bytes read, 55 more expected)', IncompleteRead(0 bytes read, 55 more expected)) → default = 0\n",
            "❌ Error saat analisis kriteria 'Pengembangan solusi teknologi responsif': ('Connection broken: IncompleteRead(0 bytes read, 55 more expected)', IncompleteRead(0 bytes read, 55 more expected)) → default = 0\n",
            "\n",
            "🔍 Memproses 'PT Mual Tio' → Kolom D\n",
            "❌ Error saat analisis kriteria 'Penggunaan teknologi digital': ('Connection broken: IncompleteRead(0 bytes read, 55 more expected)', IncompleteRead(0 bytes read, 55 more expected)) → default = 0\n",
            "❌ Error saat analisis kriteria 'Peningkatan keterampilan digital': ('Connection broken: IncompleteRead(0 bytes read, 55 more expected)', IncompleteRead(0 bytes read, 55 more expected)) → default = 0\n",
            "❌ Error saat analisis kriteria 'Strategi Digital dan Bisnis Inklusif': ('Connection broken: IncompleteRead(0 bytes read, 55 more expected)', IncompleteRead(0 bytes read, 55 more expected)) → default = 0\n",
            "❌ Error saat analisis kriteria 'Eksplorasi dan Eksploitasi Teknologi': ('Connection broken: IncompleteRead(0 bytes read, 55 more expected)', IncompleteRead(0 bytes read, 55 more expected)) → default = 0\n",
            "❌ Error saat analisis kriteria 'Kolaborasi bisnis dengan organisasi lain': ('Connection broken: IncompleteRead(0 bytes read, 55 more expected)', IncompleteRead(0 bytes read, 55 more expected)) → default = 0\n",
            "❌ Error saat analisis kriteria 'Inovasi produk atau jasa berbasis teknologi': ('Connection broken: IncompleteRead(0 bytes read, 55 more expected)', IncompleteRead(0 bytes read, 55 more expected)) → default = 0\n",
            "❌ Error saat analisis kriteria 'Pengembangan solusi teknologi responsif': ('Connection broken: IncompleteRead(0 bytes read, 55 more expected)', IncompleteRead(0 bytes read, 55 more expected)) → default = 0\n",
            "\n",
            "🔍 Memproses 'CV AZK Mekar Mulya' → Kolom E\n",
            "❌ Error saat analisis kriteria 'Penggunaan teknologi digital': ('Connection broken: IncompleteRead(0 bytes read, 55 more expected)', IncompleteRead(0 bytes read, 55 more expected)) → default = 0\n",
            "❌ Error saat analisis kriteria 'Peningkatan keterampilan digital': ('Connection broken: IncompleteRead(0 bytes read, 55 more expected)', IncompleteRead(0 bytes read, 55 more expected)) → default = 0\n",
            "❌ Error saat analisis kriteria 'Strategi Digital dan Bisnis Inklusif': ('Connection broken: IncompleteRead(0 bytes read, 55 more expected)', IncompleteRead(0 bytes read, 55 more expected)) → default = 0\n",
            "❌ Error saat analisis kriteria 'Eksplorasi dan Eksploitasi Teknologi': ('Connection broken: IncompleteRead(0 bytes read, 55 more expected)', IncompleteRead(0 bytes read, 55 more expected)) → default = 0\n",
            "❌ Error saat analisis kriteria 'Kolaborasi bisnis dengan organisasi lain': ('Connection broken: IncompleteRead(0 bytes read, 55 more expected)', IncompleteRead(0 bytes read, 55 more expected)) → default = 0\n",
            "❌ Error saat analisis kriteria 'Inovasi produk atau jasa berbasis teknologi': ('Connection broken: IncompleteRead(0 bytes read, 55 more expected)', IncompleteRead(0 bytes read, 55 more expected)) → default = 0\n",
            "❌ Error saat analisis kriteria 'Pengembangan solusi teknologi responsif': ('Connection broken: IncompleteRead(0 bytes read, 55 more expected)', IncompleteRead(0 bytes read, 55 more expected)) → default = 0\n",
            "\n",
            "✅ Semua skor berhasil ditulis ke Sheet 'Penilaian Rubrik'\n"
          ]
        }
      ],
      "source": [
        "# -*- coding: utf-8 -*-\n",
        "!pip install --quiet gspread gspread-dataframe oauth2client pandas requests\n",
        "\n",
        "import pandas as pd\n",
        "import requests\n",
        "import gspread\n",
        "import re\n",
        "from oauth2client.service_account import ServiceAccountCredentials\n",
        "\n",
        "# === KONSTANTA ===\n",
        "SPREADSHEET_URL = \"https://docs.google.com/spreadsheets/d/12taGrqZYfb9F91eIo9q2oVKsnpxAIqFbVFOya1LSxyg/edit\"\n",
        "OLLAMA_URL = \" https://salad-female-some-populations.trycloudflare.com\"\n",
        "OLLAMA_MODEL = \"llama3\"\n",
        "\n",
        "# === AUTENTIKASI GSPREAD ===\n",
        "scope = [\n",
        "    \"https://spreadsheets.google.com/feeds\",\n",
        "    \"https://www.googleapis.com/auth/spreadsheets\",\n",
        "    \"https://www.googleapis.com/auth/drive\"\n",
        "]\n",
        "creds = ServiceAccountCredentials.from_json_keyfile_name(\"/content/credentials.json\", scope)\n",
        "client = gspread.authorize(creds)\n",
        "\n",
        "# === AKSES SHEETS ===\n",
        "sheet = client.open_by_url(SPREADSHEET_URL)\n",
        "wawancara_ws = sheet.worksheet(\"Hasil Wawancara\")\n",
        "rubrik_ws = sheet.worksheet(\"Penilaian Rubrik\")\n",
        "\n",
        "# === AMBIL DATA ===\n",
        "df_wawancara = pd.DataFrame(wawancara_ws.get_all_values())\n",
        "df_wawancara.columns = df_wawancara.iloc[0]\n",
        "df_wawancara = df_wawancara[1:]\n",
        "\n",
        "rubrik_data = rubrik_ws.get_all_values()\n",
        "rubrik_header = rubrik_data[0]\n",
        "rubrik_rows = rubrik_data[1:]\n",
        "\n",
        "# === GABUNG JAWABAN DESKRIPTIF UMKM ===\n",
        "def gabung_deskripsi(row):\n",
        "    return ' '.join([str(x).strip() for x in row if str(x).strip()])\n",
        "\n",
        "# === ANALISIS DENGAN OLLAMA ===\n",
        "def analyze_skor(kriteria, rubrik, deskripsi):\n",
        "    prompt = f\"\"\"\n",
        "Deskripsi UMKM:\n",
        "\\\"{deskripsi}\\\"\n",
        "\n",
        "Kriteria Penilaian:\n",
        "\\\"{kriteria}\\\"\n",
        "\n",
        "Rubrik Penilaian:\n",
        "\\\"{rubrik}\\\"\n",
        "\n",
        "Tentukan skor digitalisasi untuk kriteria tersebut:\n",
        "- 0: Belum ada digitalisasi\n",
        "- 1: Digitalisasi awal dan terbatas\n",
        "- 2: Terintegrasi sebagian\n",
        "- 3: Transformasi menyeluruh\n",
        "\n",
        "Kembalikan hanya 1 angka: 0, 1, 2, atau 3. Jangan berikan penjelasan tambahan.\n",
        "\"\"\"\n",
        "    try:\n",
        "        res = requests.post(\n",
        "            f\"{OLLAMA_URL}/api/generate\",\n",
        "            json={\"model\": OLLAMA_MODEL, \"prompt\": prompt, \"stream\": False},\n",
        "            timeout=240\n",
        "        )\n",
        "        output = res.text.strip()\n",
        "        match = re.search(r'\\b[0-3]\\b', output)\n",
        "        return match.group(0) if match else \"0\"\n",
        "    except Exception as e:\n",
        "        print(f\"❌ Error saat analisis kriteria '{kriteria}': {e} → default = 0\")\n",
        "        return \"0\"\n",
        "\n",
        "# === PROSES SETIAP PT YANG VALID ===\n",
        "jumlah_umkm = 0\n",
        "\n",
        "for idx, row in df_wawancara.iterrows():\n",
        "    nama_industri = row['Nama Industri']\n",
        "    if not nama_industri.strip():\n",
        "        print(f\"⏹️ Baris {idx+2} kosong → proses berhenti.\")\n",
        "        break  # Stop jika baris berikutnya kosong\n",
        "\n",
        "    kolom_output = chr(ord('C') + jumlah_umkm)  # C, D, E, ...\n",
        "    deskripsi = gabung_deskripsi(row.iloc[5:23])  # Kolom F–W\n",
        "\n",
        "    print(f\"\\n🔍 Memproses '{nama_industri}' → Kolom {kolom_output}\")\n",
        "\n",
        "    for i, rubrik_row in enumerate(rubrik_rows):\n",
        "        kriteria = rubrik_row[0]\n",
        "        rubrik = rubrik_row[1]\n",
        "        skor = analyze_skor(kriteria, rubrik, deskripsi)\n",
        "        rubrik_ws.update_acell(f\"{kolom_output}{i + 2}\", skor)\n",
        "\n",
        "    jumlah_umkm += 1  # Naik ke kolom berikutnya\n",
        "\n",
        "print(\"\\n✅ Semua skor berhasil ditulis ke Sheet 'Penilaian Rubrik'\")\n"
      ]
    }
  ],
  "metadata": {
    "colab": {
      "provenance": []
    },
    "kernelspec": {
      "display_name": "Python 3",
      "name": "python3"
    },
    "language_info": {
      "name": "python"
    }
  },
  "nbformat": 4,
  "nbformat_minor": 0
}