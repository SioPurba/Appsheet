{
  "cells": [
    {
      "cell_type": "code",
      "execution_count": null,
      "metadata": {
        "id": "qOmjiBHE8n45"
      },
      "outputs": [],
      "source": []
    },
    {
      "cell_type": "code",
      "execution_count": null,
      "metadata": {
        "id": "gYI-yAL38n7u"
      },
      "outputs": [],
      "source": []
    },
    {
      "cell_type": "code",
      "execution_count": 7,
      "metadata": {
        "colab": {
          "base_uri": "https://localhost:8080/"
        },
        "id": "sRj_xQJq8n-7",
        "outputId": "a1012950-830a-4208-9a27-6b8e5607864f"
      },
      "outputs": [
        {
          "output_type": "stream",
          "name": "stdout",
          "text": [
            "\n",
            "🔍 Memproses 'PT CIFA Indonesia' → Kolom C\n",
            "\n",
            "🔍 Memproses 'PT Mual Tio' → Kolom D\n",
            "\n",
            "🔍 Memproses 'CV AZK Mekar Mulya' → Kolom E\n",
            "\n",
            "✅ Semua skor berhasil ditulis ke Sheet 'Penilaian Rubrik'\n"
          ]
        }
      ],
      "source": [
        "# -*- coding: utf-8 -*-\n",
        "!pip install --quiet gspread gspread-dataframe oauth2client pandas requests\n",
        "\n",
        "import pandas as pd\n",
        "import requests\n",
        "import gspread\n",
        "import re\n",
        "from oauth2client.service_account import ServiceAccountCredentials\n",
        "\n",
        "# === KONSTANTA ===\n",
        "SPREADSHEET_URL = \"https://docs.google.com/spreadsheets/d/12taGrqZYfb9F91eIo9q2oVKsnpxAIqFbVFOya1LSxyg/edit\"\n",
        "OLLAMA_URL = \"https://fragrances-marilyn-andy-eternal.trycloudflare.com\"\n",
        "OLLAMA_MODEL = \"llama3.2:3b\"\n",
        "\n",
        "# === AUTENTIKASI GSPREAD ===\n",
        "scope = [\n",
        "    \"https://spreadsheets.google.com/feeds\",\n",
        "    \"https://www.googleapis.com/auth/spreadsheets\",\n",
        "    \"https://www.googleapis.com/auth/drive\"\n",
        "]\n",
        "creds = ServiceAccountCredentials.from_json_keyfile_name(\"/content/credentials.json\", scope)\n",
        "client = gspread.authorize(creds)\n",
        "\n",
        "# === AKSES SHEETS ===\n",
        "sheet = client.open_by_url(SPREADSHEET_URL)\n",
        "wawancara_ws = sheet.worksheet(\"Hasil Wawancara\")\n",
        "rubrik_ws = sheet.worksheet(\"Penilaian Rubrik\")\n",
        "\n",
        "# === AMBIL DATA ===\n",
        "df_wawancara = pd.DataFrame(wawancara_ws.get_all_values())\n",
        "df_wawancara.columns = df_wawancara.iloc[0]\n",
        "df_wawancara = df_wawancara[1:]\n",
        "\n",
        "rubrik_data = rubrik_ws.get_all_values()\n",
        "rubrik_header = rubrik_data[0]\n",
        "rubrik_rows = rubrik_data[1:]\n",
        "\n",
        "# === GABUNG JAWABAN DESKRIPTIF UMKM ===\n",
        "def gabung_deskripsi(row):\n",
        "    return ' '.join([str(x).strip() for x in row if str(x).strip()])\n",
        "\n",
        "# === ANALISIS DENGAN OLLAMA ===\n",
        "def analyze_skor(kriteria, rubrik, deskripsi):\n",
        "    prompt = f\"\"\"\n",
        "Anda bertindak sebagai evaluator digitalisasi UMKM berbasis rubrik penilaian. Tugas Anda adalah membaca deskripsi UMKM di bawah ini dan menilai seberapa baik UMKM tersebut memenuhi kriteria yang ditentukan.\n",
        "\n",
        "=== DESKRIPSI UMKM ===\n",
        "{deskripsi}\n",
        "\n",
        "=== KRITERIA PENILAIAN ===\n",
        "{kriteria}\n",
        "\n",
        "=== RUBRIK PENILAIAN ===\n",
        "{rubrik}\n",
        "\n",
        "=== PETUNJUK PENILAIAN ===\n",
        "Berdasarkan deskripsi UMKM dan rubrik yang diberikan, tentukan skor digitalisasi UMKM sesuai pedoman berikut:\n",
        "- 0: Tidak ada bukti digitalisasi\n",
        "- 1: Terdapat upaya awal digitalisasi namun masih terbatas\n",
        "- 2: Implementasi digitalisasi sebagian, sudah mulai terintegrasi\n",
        "- 3: Digitalisasi menyeluruh, sudah menjadi bagian integral dari kegiatan usaha\n",
        "\n",
        "Berikan **hanya satu angka** dari 0 hingga 3 sesuai penilaian Anda. **Jangan tambahkan penjelasan, alasan, atau kata lain apa pun** dalam jawaban.\n",
        "\"\"\"\n",
        "    try:\n",
        "        res = requests.post(\n",
        "            f\"{OLLAMA_URL}/api/generate\",\n",
        "            json={\"model\": OLLAMA_MODEL, \"prompt\": prompt, \"stream\": False},\n",
        "            timeout=240\n",
        "        )\n",
        "        output = res.text.strip()\n",
        "        match = re.search(r'\\b[0-3]\\b', output)\n",
        "        return match.group(0) if match else \"0\"\n",
        "    except Exception as e:\n",
        "        print(f\"❌ Error saat analisis kriteria '{kriteria}': {e} → default = 0\")\n",
        "        return \"0\"\n",
        "\n",
        "# === PROSES SETIAP PT YANG VALID ===\n",
        "jumlah_umkm = 0\n",
        "\n",
        "for idx, row in df_wawancara.iterrows():\n",
        "    nama_industri = row['Nama Industri']\n",
        "    if not nama_industri.strip():\n",
        "        print(f\"⏹️ Baris {idx+2} kosong → proses berhenti.\")\n",
        "        break\n",
        "\n",
        "    kolom_output = chr(ord('C') + jumlah_umkm)\n",
        "    deskripsi = gabung_deskripsi(row.iloc[5:23])  # Kolom F–W\n",
        "\n",
        "    print(f\"\\n🔍 Memproses '{nama_industri}' → Kolom {kolom_output}\")\n",
        "\n",
        "    for i, rubrik_row in enumerate(rubrik_rows):\n",
        "        kriteria = rubrik_row[0]\n",
        "        rubrik = rubrik_row[1]\n",
        "        skor = analyze_skor(kriteria, rubrik, deskripsi)\n",
        "        rubrik_ws.update_acell(f\"{kolom_output}{i + 2}\", skor)\n",
        "\n",
        "    jumlah_umkm += 1\n",
        "\n",
        "print(\"\\n✅ Semua skor berhasil ditulis ke Sheet 'Penilaian Rubrik'\")\n"
      ]
    }
  ],
  "metadata": {
    "colab": {
      "provenance": []
    },
    "kernelspec": {
      "display_name": "Python 3",
      "name": "python3"
    },
    "language_info": {
      "name": "python"
    }
  },
  "nbformat": 4,
  "nbformat_minor": 0
}